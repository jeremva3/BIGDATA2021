{
 "cells": [
  {
   "cell_type": "code",
   "execution_count": 1,
   "id": "06c71972",
   "metadata": {},
   "outputs": [
    {
     "data": {
      "text/plain": [
       "'C:\\\\spark-3.2.0-bin-hadoop3.2'"
      ]
     },
     "execution_count": 1,
     "metadata": {},
     "output_type": "execute_result"
    }
   ],
   "source": [
    "import findspark\n",
    "findspark.init()\n",
    "findspark.find()"
   ]
  },
  {
   "cell_type": "code",
   "execution_count": 2,
   "id": "5b003e0a",
   "metadata": {},
   "outputs": [],
   "source": [
    "import pyspark"
   ]
  },
  {
   "cell_type": "code",
   "execution_count": 3,
   "id": "b28c7e69",
   "metadata": {},
   "outputs": [],
   "source": [
    "from pyspark import SparkContext\n",
    "sc=SparkContext(\"local\",\"Test-app\")"
   ]
  },
  {
   "cell_type": "code",
   "execution_count": 5,
   "id": "ccf0eeec",
   "metadata": {},
   "outputs": [],
   "source": [
    "import math\n",
    "import pyspark\n",
    "from pyspark.sql import SparkSession\n",
    "from pyspark.sql.functions import expr"
   ]
  },
  {
   "cell_type": "markdown",
   "id": "8adbabca",
   "metadata": {},
   "source": [
    "# Distancia de Minkowski"
   ]
  },
  {
   "cell_type": "code",
   "execution_count": 6,
   "id": "cc9ed3b8",
   "metadata": {},
   "outputs": [
    {
     "name": "stdout",
     "output_type": "stream",
     "text": [
      "6.4031242374328485\n"
     ]
    }
   ],
   "source": [
    "numeros=[(2,1),(3,1),(8,2)]\n",
    "p=2\n",
    "datos=sc.parallelize(numeros).zipWithIndex()\n",
    "\n",
    "mape=datos.flatMap(lambda x:[(x[1],i) for i in x[0]])\n",
    "reduce1=mape.reduceByKey(lambda x,y:(math.fabs(x-y))**p)\n",
    "mape1=reduce1.flatMap(lambda x:[(x[1]) for i in x]).distinct()\n",
    "reduce2=mape1.reduce(lambda x,y:(x+y))\n",
    "rdd=reduce2**(1/p)\n",
    "print(rdd)\n"
   ]
  },
  {
   "cell_type": "markdown",
   "id": "0b91e04f",
   "metadata": {},
   "source": [
    "# Escalonamiento"
   ]
  },
  {
   "cell_type": "code",
   "execution_count": 7,
   "id": "28a6b38b",
   "metadata": {},
   "outputs": [
    {
     "name": "stdout",
     "output_type": "stream",
     "text": [
      "[[1.0, 0.0, 0.3333333333333333]]\n"
     ]
    }
   ],
   "source": [
    "numeros2=[(9,6,7)]\n",
    "datos=sc.parallelize(numeros2)\n",
    "maximo=max(datos.first())\n",
    "minimo=min(datos.first())\n",
    "mape=datos.map(lambda x:[(i-minimo)/(maximo-minimo) for i in x])\n",
    "print(mape.collect())"
   ]
  },
  {
   "cell_type": "code",
   "execution_count": null,
   "id": "6d492a61",
   "metadata": {},
   "outputs": [],
   "source": []
  }
 ],
 "metadata": {
  "kernelspec": {
   "display_name": "Python 3 (ipykernel)",
   "language": "python",
   "name": "python3"
  },
  "language_info": {
   "codemirror_mode": {
    "name": "ipython",
    "version": 3
   },
   "file_extension": ".py",
   "mimetype": "text/x-python",
   "name": "python",
   "nbconvert_exporter": "python",
   "pygments_lexer": "ipython3",
   "version": "3.9.7"
  }
 },
 "nbformat": 4,
 "nbformat_minor": 5
}
